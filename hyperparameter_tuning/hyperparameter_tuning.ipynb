{
 "cells": [
  {
   "cell_type": "markdown",
   "metadata": {},
   "source": [
    "# Tuning Hyperparameters of Machine Learning Model\n",
    "\n",
    "\n",
    "Data Professor YouTube channel, http://youtube.com/dataprofessor"
   ]
  },
  {
   "cell_type": "markdown",
   "metadata": {},
   "source": [
    "# 0. Import libraries"
   ]
  },
  {
   "cell_type": "code",
   "execution_count": 10,
   "metadata": {},
   "outputs": [
    {
     "ename": "ModuleNotFoundError",
     "evalue": "No module named 'plotly.graph_objs'",
     "output_type": "error",
     "traceback": [
      "\u001b[0;31m---------------------------------------------------------------------------\u001b[0m",
      "\u001b[0;31mModuleNotFoundError\u001b[0m                       Traceback (most recent call last)",
      "\u001b[0;32m<ipython-input-10-14f1604b5c98>\u001b[0m in \u001b[0;36m<module>\u001b[0;34m\u001b[0m\n\u001b[1;32m     12\u001b[0m \u001b[0;34m\u001b[0m\u001b[0m\n\u001b[1;32m     13\u001b[0m \u001b[0;34m\u001b[0m\u001b[0m\n\u001b[0;32m---> 14\u001b[0;31m \u001b[0;32mimport\u001b[0m \u001b[0mplotly\u001b[0m\u001b[0;34m.\u001b[0m\u001b[0mgraph_objects\u001b[0m \u001b[0;32mas\u001b[0m \u001b[0mgo\u001b[0m\u001b[0;34m\u001b[0m\u001b[0;34m\u001b[0m\u001b[0m\n\u001b[0m",
      "\u001b[0;32m~/.local/lib/python3.8/site-packages/plotly/graph_objects.py\u001b[0m in \u001b[0;36m<module>\u001b[0;34m\u001b[0m\n\u001b[1;32m      1\u001b[0m \u001b[0;32mfrom\u001b[0m \u001b[0m__future__\u001b[0m \u001b[0;32mimport\u001b[0m \u001b[0mabsolute_import\u001b[0m\u001b[0;34m\u001b[0m\u001b[0;34m\u001b[0m\u001b[0m\n\u001b[0;32m----> 2\u001b[0;31m \u001b[0;32mfrom\u001b[0m \u001b[0mplotly\u001b[0m\u001b[0;34m.\u001b[0m\u001b[0mgraph_objs\u001b[0m \u001b[0;32mimport\u001b[0m \u001b[0;34m*\u001b[0m\u001b[0;34m\u001b[0m\u001b[0;34m\u001b[0m\u001b[0m\n\u001b[0m\u001b[1;32m      3\u001b[0m \u001b[0;34m\u001b[0m\u001b[0m\n\u001b[1;32m      4\u001b[0m __all__ = [\n\u001b[1;32m      5\u001b[0m     \u001b[0;34m\"AngularAxis\"\u001b[0m\u001b[0;34m,\u001b[0m\u001b[0;34m\u001b[0m\u001b[0;34m\u001b[0m\u001b[0m\n",
      "\u001b[0;31mModuleNotFoundError\u001b[0m: No module named 'plotly.graph_objs'"
     ]
    }
   ],
   "source": [
    "from sklearn.datasets import make_classification\n",
    "\n",
    "import pandas as pd\n",
    "\n",
    "from sklearn.model_selection import train_test_split\n",
    "\n",
    "from sklearn.ensemble import RandomForestClassifier\n",
    "from sklearn.metrics import accuracy_score\n",
    "\n",
    "from sklearn.model_selection import GridSearchCV\n",
    "import numpy as np\n"
   ]
  },
  {
   "cell_type": "markdown",
   "metadata": {},
   "source": [
    "In this Jupyter notebook, we will be tuning hyperparameters of a classification model built by random forest algorithm using scikit-learn package in Python.\n",
    "\n",
    "# 1. Make synthetic dataset\n",
    "### 1.1. Generate the dataset"
   ]
  },
  {
   "cell_type": "code",
   "execution_count": 6,
   "metadata": {},
   "outputs": [],
   "source": [
    "\n",
    "X, Y = make_classification(n_samples=200, n_classes=2, n_features=10, n_redundant=0, random_state=1)"
   ]
  },
  {
   "cell_type": "markdown",
   "metadata": {},
   "source": [
    "Generate a random n-class classification problem."
   ]
  },
  {
   "cell_type": "markdown",
   "metadata": {},
   "source": [
    "### 1.2. Let's examine the data dimension\n",
    "We can see that there are 100 rows (samples) and 5 columns (features) for the X variable and 100 rows and 1 column (class label) for the Y variable."
   ]
  },
  {
   "cell_type": "code",
   "execution_count": 7,
   "metadata": {},
   "outputs": [
    {
     "data": {
      "text/plain": [
       "((200, 10), (200,))"
      ]
     },
     "execution_count": 7,
     "metadata": {},
     "output_type": "execute_result"
    }
   ],
   "source": [
    "X.shape, Y.shape"
   ]
  },
  {
   "cell_type": "code",
   "execution_count": 8,
   "metadata": {},
   "outputs": [
    {
     "data": {
      "text/plain": [
       "array([[-1.51107661,  0.60874908, -0.15323616, ..., -0.86482994,\n",
       "        -0.20290111, -0.87142207],\n",
       "       [ 1.44544531,  0.51896937,  0.64515265, ..., -1.04339961,\n",
       "         0.04854689, -2.62101164],\n",
       "       [ 0.37167029,  0.51350548, -1.39881282, ...,  0.14225137,\n",
       "        -1.13283476,  1.85300949],\n",
       "       ...,\n",
       "       [-0.95090925, -0.21873346,  1.29354962, ..., -0.04586669,\n",
       "        -0.97210712, -0.70435033],\n",
       "       [-0.4466992 ,  0.74488454, -0.9612636 , ...,  0.61223252,\n",
       "         1.67977906,  0.20437739],\n",
       "       [ 1.00796648,  1.1253235 ,  0.43499832, ...,  0.44838065,\n",
       "        -1.75951426,  0.39233491]])"
      ]
     },
     "execution_count": 8,
     "metadata": {},
     "output_type": "execute_result"
    }
   ],
   "source": [
    "X"
   ]
  },
  {
   "cell_type": "code",
   "execution_count": 9,
   "metadata": {},
   "outputs": [
    {
     "data": {
      "text/html": [
       "<div>\n",
       "<style scoped>\n",
       "    .dataframe tbody tr th:only-of-type {\n",
       "        vertical-align: middle;\n",
       "    }\n",
       "\n",
       "    .dataframe tbody tr th {\n",
       "        vertical-align: top;\n",
       "    }\n",
       "\n",
       "    .dataframe thead th {\n",
       "        text-align: right;\n",
       "    }\n",
       "</style>\n",
       "<table border=\"1\" class=\"dataframe\">\n",
       "  <thead>\n",
       "    <tr style=\"text-align: right;\">\n",
       "      <th></th>\n",
       "      <th>0</th>\n",
       "      <th>1</th>\n",
       "      <th>2</th>\n",
       "      <th>3</th>\n",
       "      <th>4</th>\n",
       "      <th>5</th>\n",
       "      <th>6</th>\n",
       "      <th>7</th>\n",
       "      <th>8</th>\n",
       "      <th>9</th>\n",
       "    </tr>\n",
       "  </thead>\n",
       "  <tbody>\n",
       "    <tr>\n",
       "      <th>0</th>\n",
       "      <td>-1.511077</td>\n",
       "      <td>0.608749</td>\n",
       "      <td>-0.153236</td>\n",
       "      <td>0.507984</td>\n",
       "      <td>-0.324032</td>\n",
       "      <td>-2.432509</td>\n",
       "      <td>1.592056</td>\n",
       "      <td>-0.864830</td>\n",
       "      <td>-0.202901</td>\n",
       "      <td>-0.871422</td>\n",
       "    </tr>\n",
       "    <tr>\n",
       "      <th>1</th>\n",
       "      <td>1.445445</td>\n",
       "      <td>0.518969</td>\n",
       "      <td>0.645153</td>\n",
       "      <td>2.038777</td>\n",
       "      <td>-0.396293</td>\n",
       "      <td>1.282142</td>\n",
       "      <td>-2.170249</td>\n",
       "      <td>-1.043400</td>\n",
       "      <td>0.048547</td>\n",
       "      <td>-2.621012</td>\n",
       "    </tr>\n",
       "    <tr>\n",
       "      <th>2</th>\n",
       "      <td>0.371670</td>\n",
       "      <td>0.513505</td>\n",
       "      <td>-1.398813</td>\n",
       "      <td>-0.459943</td>\n",
       "      <td>0.644354</td>\n",
       "      <td>0.081768</td>\n",
       "      <td>-1.757065</td>\n",
       "      <td>0.142251</td>\n",
       "      <td>-1.132835</td>\n",
       "      <td>1.853009</td>\n",
       "    </tr>\n",
       "    <tr>\n",
       "      <th>3</th>\n",
       "      <td>2.565453</td>\n",
       "      <td>0.145652</td>\n",
       "      <td>1.177052</td>\n",
       "      <td>1.322694</td>\n",
       "      <td>0.194175</td>\n",
       "      <td>-0.641108</td>\n",
       "      <td>0.878631</td>\n",
       "      <td>-0.202694</td>\n",
       "      <td>-1.199798</td>\n",
       "      <td>-0.464115</td>\n",
       "    </tr>\n",
       "    <tr>\n",
       "      <th>4</th>\n",
       "      <td>-0.710656</td>\n",
       "      <td>1.050615</td>\n",
       "      <td>0.354602</td>\n",
       "      <td>-1.774596</td>\n",
       "      <td>-0.312230</td>\n",
       "      <td>-0.212373</td>\n",
       "      <td>0.826484</td>\n",
       "      <td>-0.621252</td>\n",
       "      <td>-1.187774</td>\n",
       "      <td>1.131129</td>\n",
       "    </tr>\n",
       "    <tr>\n",
       "      <th>...</th>\n",
       "      <td>...</td>\n",
       "      <td>...</td>\n",
       "      <td>...</td>\n",
       "      <td>...</td>\n",
       "      <td>...</td>\n",
       "      <td>...</td>\n",
       "      <td>...</td>\n",
       "      <td>...</td>\n",
       "      <td>...</td>\n",
       "      <td>...</td>\n",
       "    </tr>\n",
       "    <tr>\n",
       "      <th>195</th>\n",
       "      <td>-1.098083</td>\n",
       "      <td>-1.277636</td>\n",
       "      <td>0.419595</td>\n",
       "      <td>0.482176</td>\n",
       "      <td>-1.879287</td>\n",
       "      <td>-0.091079</td>\n",
       "      <td>-2.428480</td>\n",
       "      <td>0.032615</td>\n",
       "      <td>1.164204</td>\n",
       "      <td>0.758637</td>\n",
       "    </tr>\n",
       "    <tr>\n",
       "      <th>196</th>\n",
       "      <td>0.165211</td>\n",
       "      <td>1.937132</td>\n",
       "      <td>-1.307971</td>\n",
       "      <td>0.074876</td>\n",
       "      <td>-1.786935</td>\n",
       "      <td>1.472396</td>\n",
       "      <td>1.666002</td>\n",
       "      <td>-0.696028</td>\n",
       "      <td>-0.162525</td>\n",
       "      <td>0.976296</td>\n",
       "    </tr>\n",
       "    <tr>\n",
       "      <th>197</th>\n",
       "      <td>-0.950909</td>\n",
       "      <td>-0.218733</td>\n",
       "      <td>1.293550</td>\n",
       "      <td>0.590039</td>\n",
       "      <td>-0.679384</td>\n",
       "      <td>-0.438998</td>\n",
       "      <td>-0.188582</td>\n",
       "      <td>-0.045867</td>\n",
       "      <td>-0.972107</td>\n",
       "      <td>-0.704350</td>\n",
       "    </tr>\n",
       "    <tr>\n",
       "      <th>198</th>\n",
       "      <td>-0.446699</td>\n",
       "      <td>0.744885</td>\n",
       "      <td>-0.961264</td>\n",
       "      <td>0.494342</td>\n",
       "      <td>-1.494194</td>\n",
       "      <td>-1.458324</td>\n",
       "      <td>2.820244</td>\n",
       "      <td>0.612233</td>\n",
       "      <td>1.679779</td>\n",
       "      <td>0.204377</td>\n",
       "    </tr>\n",
       "    <tr>\n",
       "      <th>199</th>\n",
       "      <td>1.007966</td>\n",
       "      <td>1.125323</td>\n",
       "      <td>0.434998</td>\n",
       "      <td>-0.948440</td>\n",
       "      <td>-0.423478</td>\n",
       "      <td>0.910424</td>\n",
       "      <td>0.179207</td>\n",
       "      <td>0.448381</td>\n",
       "      <td>-1.759514</td>\n",
       "      <td>0.392335</td>\n",
       "    </tr>\n",
       "  </tbody>\n",
       "</table>\n",
       "<p>200 rows × 10 columns</p>\n",
       "</div>"
      ],
      "text/plain": [
       "            0         1         2         3         4         5         6  \\\n",
       "0   -1.511077  0.608749 -0.153236  0.507984 -0.324032 -2.432509  1.592056   \n",
       "1    1.445445  0.518969  0.645153  2.038777 -0.396293  1.282142 -2.170249   \n",
       "2    0.371670  0.513505 -1.398813 -0.459943  0.644354  0.081768 -1.757065   \n",
       "3    2.565453  0.145652  1.177052  1.322694  0.194175 -0.641108  0.878631   \n",
       "4   -0.710656  1.050615  0.354602 -1.774596 -0.312230 -0.212373  0.826484   \n",
       "..        ...       ...       ...       ...       ...       ...       ...   \n",
       "195 -1.098083 -1.277636  0.419595  0.482176 -1.879287 -0.091079 -2.428480   \n",
       "196  0.165211  1.937132 -1.307971  0.074876 -1.786935  1.472396  1.666002   \n",
       "197 -0.950909 -0.218733  1.293550  0.590039 -0.679384 -0.438998 -0.188582   \n",
       "198 -0.446699  0.744885 -0.961264  0.494342 -1.494194 -1.458324  2.820244   \n",
       "199  1.007966  1.125323  0.434998 -0.948440 -0.423478  0.910424  0.179207   \n",
       "\n",
       "            7         8         9  \n",
       "0   -0.864830 -0.202901 -0.871422  \n",
       "1   -1.043400  0.048547 -2.621012  \n",
       "2    0.142251 -1.132835  1.853009  \n",
       "3   -0.202694 -1.199798 -0.464115  \n",
       "4   -0.621252 -1.187774  1.131129  \n",
       "..        ...       ...       ...  \n",
       "195  0.032615  1.164204  0.758637  \n",
       "196 -0.696028 -0.162525  0.976296  \n",
       "197 -0.045867 -0.972107 -0.704350  \n",
       "198  0.612233  1.679779  0.204377  \n",
       "199  0.448381 -1.759514  0.392335  \n",
       "\n",
       "[200 rows x 10 columns]"
      ]
     },
     "execution_count": 9,
     "metadata": {},
     "output_type": "execute_result"
    }
   ],
   "source": [
    "\n",
    "pd.DataFrame(X)"
   ]
  },
  {
   "cell_type": "code",
   "execution_count": 10,
   "metadata": {},
   "outputs": [
    {
     "data": {
      "text/html": [
       "<div>\n",
       "<style scoped>\n",
       "    .dataframe tbody tr th:only-of-type {\n",
       "        vertical-align: middle;\n",
       "    }\n",
       "\n",
       "    .dataframe tbody tr th {\n",
       "        vertical-align: top;\n",
       "    }\n",
       "\n",
       "    .dataframe thead th {\n",
       "        text-align: right;\n",
       "    }\n",
       "</style>\n",
       "<table border=\"1\" class=\"dataframe\">\n",
       "  <thead>\n",
       "    <tr style=\"text-align: right;\">\n",
       "      <th></th>\n",
       "      <th>0</th>\n",
       "    </tr>\n",
       "  </thead>\n",
       "  <tbody>\n",
       "    <tr>\n",
       "      <th>0</th>\n",
       "      <td>1</td>\n",
       "    </tr>\n",
       "    <tr>\n",
       "      <th>1</th>\n",
       "      <td>0</td>\n",
       "    </tr>\n",
       "    <tr>\n",
       "      <th>2</th>\n",
       "      <td>0</td>\n",
       "    </tr>\n",
       "    <tr>\n",
       "      <th>3</th>\n",
       "      <td>1</td>\n",
       "    </tr>\n",
       "    <tr>\n",
       "      <th>4</th>\n",
       "      <td>1</td>\n",
       "    </tr>\n",
       "    <tr>\n",
       "      <th>...</th>\n",
       "      <td>...</td>\n",
       "    </tr>\n",
       "    <tr>\n",
       "      <th>195</th>\n",
       "      <td>0</td>\n",
       "    </tr>\n",
       "    <tr>\n",
       "      <th>196</th>\n",
       "      <td>1</td>\n",
       "    </tr>\n",
       "    <tr>\n",
       "      <th>197</th>\n",
       "      <td>0</td>\n",
       "    </tr>\n",
       "    <tr>\n",
       "      <th>198</th>\n",
       "      <td>1</td>\n",
       "    </tr>\n",
       "    <tr>\n",
       "      <th>199</th>\n",
       "      <td>1</td>\n",
       "    </tr>\n",
       "  </tbody>\n",
       "</table>\n",
       "<p>200 rows × 1 columns</p>\n",
       "</div>"
      ],
      "text/plain": [
       "     0\n",
       "0    1\n",
       "1    0\n",
       "2    0\n",
       "3    1\n",
       "4    1\n",
       "..  ..\n",
       "195  0\n",
       "196  1\n",
       "197  0\n",
       "198  1\n",
       "199  1\n",
       "\n",
       "[200 rows x 1 columns]"
      ]
     },
     "execution_count": 10,
     "metadata": {},
     "output_type": "execute_result"
    }
   ],
   "source": [
    "pd.DataFrame(Y)"
   ]
  },
  {
   "cell_type": "markdown",
   "metadata": {},
   "source": [
    "# 2. Data split (80/20 ratio)\n",
    "### 2.1. Data split\n",
    "A ratio of 80/20 is used for data splitting such that 80% goes to the training subset and 20% to the testing subset."
   ]
  },
  {
   "cell_type": "code",
   "execution_count": 11,
   "metadata": {},
   "outputs": [],
   "source": [
    "X_train, X_test, Y_train, Y_test = train_test_split(X, Y, test_size=0.2)"
   ]
  },
  {
   "cell_type": "markdown",
   "metadata": {},
   "source": [
    "### 2.2. Let's examine the data dimension\n",
    "Here we see that the training set has 160 rows and 10 columns while there are 160 rows and 1 column for the Y variable."
   ]
  },
  {
   "cell_type": "code",
   "execution_count": 12,
   "metadata": {},
   "outputs": [
    {
     "data": {
      "text/plain": [
       "((160, 10), (160,))"
      ]
     },
     "execution_count": 12,
     "metadata": {},
     "output_type": "execute_result"
    }
   ],
   "source": [
    "X_train.shape, Y_train.shape"
   ]
  },
  {
   "cell_type": "code",
   "execution_count": 13,
   "metadata": {},
   "outputs": [
    {
     "data": {
      "text/plain": [
       "((40, 10), (40,))"
      ]
     },
     "execution_count": 13,
     "metadata": {},
     "output_type": "execute_result"
    }
   ],
   "source": [
    "X_test.shape, Y_test.shape"
   ]
  },
  {
   "cell_type": "markdown",
   "metadata": {},
   "source": [
    "# 3. Building a simple machine learning model using Random Forest\n",
    "In the following blocks of codes, we will first start with building a random forest model. Finally, we will explore how to tune the hyperparameters (e.g. n_estimators and max_features) of the random forest algorithm.\n",
    "\n",
    "We first start by importing the necessary libraries and assigning the random forest classifier to the rf variable."
   ]
  },
  {
   "cell_type": "code",
   "execution_count": 14,
   "metadata": {},
   "outputs": [],
   "source": [
    "rf = RandomForestClassifier(max_features=5, n_estimators=100)"
   ]
  },
  {
   "cell_type": "markdown",
   "metadata": {},
   "source": [
    "Now, we will be applying the random forest classifier to build a classification model using the rf.fit() function on the training data (e.g. X_train and Y_train)."
   ]
  },
  {
   "cell_type": "code",
   "execution_count": 15,
   "metadata": {},
   "outputs": [
    {
     "data": {
      "text/plain": [
       "RandomForestClassifier(max_features=5)"
      ]
     },
     "execution_count": 15,
     "metadata": {},
     "output_type": "execute_result"
    }
   ],
   "source": [
    "rf.fit(X_train, Y_train)"
   ]
  },
  {
   "cell_type": "markdown",
   "metadata": {},
   "source": [
    "The rf.score() function will be used to calculate the accuracy score of the RF model in predicting the test data (X_test)."
   ]
  },
  {
   "cell_type": "code",
   "execution_count": 16,
   "metadata": {},
   "outputs": [
    {
     "data": {
      "text/plain": [
       "0.925"
      ]
     },
     "execution_count": 16,
     "metadata": {},
     "output_type": "execute_result"
    }
   ],
   "source": [
    "rf.score(X_test, Y_test)"
   ]
  },
  {
   "cell_type": "markdown",
   "metadata": {},
   "source": [
    "The following 2 code cells also calculate the accuracy score of the RF model in predicting the test data (X_test) but performs it in 2 steps using rf.predict() and accuracy_score() functions."
   ]
  },
  {
   "cell_type": "code",
   "execution_count": 17,
   "metadata": {},
   "outputs": [],
   "source": [
    "Y_pred = rf.predict(X_test)"
   ]
  },
  {
   "cell_type": "code",
   "execution_count": 18,
   "metadata": {},
   "outputs": [
    {
     "data": {
      "text/plain": [
       "0.925"
      ]
     },
     "execution_count": 18,
     "metadata": {},
     "output_type": "execute_result"
    }
   ],
   "source": [
    "accuracy_score(Y_pred, Y_test)"
   ]
  },
  {
   "cell_type": "markdown",
   "metadata": {},
   "source": [
    "The advantage of using this latter approach is that you have access to the predicted data values.\n",
    "\n"
   ]
  },
  {
   "cell_type": "code",
   "execution_count": 19,
   "metadata": {},
   "outputs": [
    {
     "data": {
      "text/plain": [
       "(array([0, 0, 0, 1, 1, 1, 0, 0, 1, 1, 1, 0, 0, 1, 1, 1, 0, 1, 0, 1, 0, 0,\n",
       "        0, 1, 1, 1, 0, 1, 0, 0, 0, 0, 0, 1, 1, 0, 1, 1, 1, 1]),\n",
       " array([0, 0, 0, 1, 1, 1, 0, 0, 1, 1, 1, 0, 0, 1, 1, 1, 0, 1, 0, 1, 0, 0,\n",
       "        0, 1, 1, 1, 0, 1, 0, 0, 0, 0, 0, 0, 0, 0, 1, 1, 1, 0]))"
      ]
     },
     "execution_count": 19,
     "metadata": {},
     "output_type": "execute_result"
    }
   ],
   "source": [
    "Y_pred, Y_test"
   ]
  },
  {
   "cell_type": "markdown",
   "metadata": {},
   "source": [
    "# 4. Hyperparameter Tuning\n",
    "Now we will be performing the tuning of hyperparameters of Random forest model. The hyperparameters that we will tune includes max_features and the n_estimators.\n",
    "\n",
    "Note: Some codes modified from scikit-learn\n",
    "\n",
    "Firstly, we will import the necessary modules.\n",
    "\n",
    "The GridSearchCV() function from scikit-learn will be used to perform the hyperparameter tuning. Particularly, GridSearchCV() function can perform the typical functions of a classifier such as fit, score and predict as well as predict_proba, decision_function, transform and inverse_transform.\n",
    "\n",
    "Secondly, we define variables that are necessary input to the GridSearchCV() function.\n",
    "\n"
   ]
  },
  {
   "cell_type": "code",
   "execution_count": 24,
   "metadata": {},
   "outputs": [],
   "source": [
    "max_features_range = np.arange(1,6,1)\n",
    "n_estimators_range = np.arange(10,210,10)\n",
    "param_grid = dict(max_features=max_features_range, n_estimators=n_estimators_range)\n",
    "\n",
    "rf = RandomForestClassifier()\n",
    "\n",
    "grid = GridSearchCV(estimator=rf, param_grid=param_grid, cv=5)"
   ]
  },
  {
   "cell_type": "markdown",
   "metadata": {},
   "source": [
    "model = RandomForestClassifier()\n",
    "parameter_space = {'n_estimators': [100, 300, 1000],\n",
    "                   'max_features': ['sqrt', 0.5, None],\n",
    "                   'max_depth': [None, 10, 30, 100],\n",
    "                   'min_samples_leaf': [1, 3, 10]}\n",
    "\n",
    "grid_search = GridSearchCV(model,\n",
    "                           param_grid=parameter_space,\n",
    "                           verbose=1,\n",
    "                           n_jobs=-1,\n",
    "                           cv=5)\n"
   ]
  },
  {
   "cell_type": "code",
   "execution_count": 22,
   "metadata": {},
   "outputs": [
    {
     "data": {
      "text/plain": [
       "(array([1, 2, 3, 4, 5]),\n",
       " array([ 10,  20,  30,  40,  50,  60,  70,  80,  90, 100, 110, 120, 130,\n",
       "        140, 150, 160, 170, 180, 190, 200]))"
      ]
     },
     "execution_count": 22,
     "metadata": {},
     "output_type": "execute_result"
    }
   ],
   "source": [
    "np.arange(1,6,1), np.arange(10,210,10)"
   ]
  },
  {
   "cell_type": "code",
   "execution_count": 27,
   "metadata": {},
   "outputs": [
    {
     "name": "stdout",
     "output_type": "stream",
     "text": [
      "CPU times: user 1min 14s, sys: 368 ms, total: 1min 15s\n",
      "Wall time: 1min 15s\n"
     ]
    },
    {
     "data": {
      "text/plain": [
       "GridSearchCV(cv=5, estimator=RandomForestClassifier(),\n",
       "             param_grid={'max_features': array([1, 2, 3, 4, 5]),\n",
       "                         'n_estimators': array([ 10,  20,  30,  40,  50,  60,  70,  80,  90, 100, 110, 120, 130,\n",
       "       140, 150, 160, 170, 180, 190, 200])})"
      ]
     },
     "execution_count": 27,
     "metadata": {},
     "output_type": "execute_result"
    }
   ],
   "source": [
    "%%time\n",
    "grid.fit(X_train,Y_train)"
   ]
  },
  {
   "cell_type": "code",
   "execution_count": 28,
   "metadata": {},
   "outputs": [
    {
     "name": "stdout",
     "output_type": "stream",
     "text": [
      "The best parameters are {'max_features': 3, 'n_estimators': 80} with a score of 0.89\n"
     ]
    }
   ],
   "source": [
    "print(\"The best parameters are %s with a score of %0.2f\"\n",
    "      % (grid.best_params_, grid.best_score_))"
   ]
  },
  {
   "cell_type": "markdown",
   "metadata": {},
   "source": [
    "# 5. Dataframe of Grid search parameters and their Accuracy scores\n",
    "Finally, we will be exporting the grid search parameters and their resulting accuracy scores into a dataframe."
   ]
  },
  {
   "cell_type": "code",
   "execution_count": 30,
   "metadata": {},
   "outputs": [
    {
     "data": {
      "text/html": [
       "<div>\n",
       "<style scoped>\n",
       "    .dataframe tbody tr th:only-of-type {\n",
       "        vertical-align: middle;\n",
       "    }\n",
       "\n",
       "    .dataframe tbody tr th {\n",
       "        vertical-align: top;\n",
       "    }\n",
       "\n",
       "    .dataframe thead th {\n",
       "        text-align: right;\n",
       "    }\n",
       "</style>\n",
       "<table border=\"1\" class=\"dataframe\">\n",
       "  <thead>\n",
       "    <tr style=\"text-align: right;\">\n",
       "      <th></th>\n",
       "      <th>max_features</th>\n",
       "      <th>n_estimators</th>\n",
       "      <th>Accuracy</th>\n",
       "    </tr>\n",
       "  </thead>\n",
       "  <tbody>\n",
       "    <tr>\n",
       "      <th>0</th>\n",
       "      <td>1</td>\n",
       "      <td>10</td>\n",
       "      <td>0.73750</td>\n",
       "    </tr>\n",
       "    <tr>\n",
       "      <th>1</th>\n",
       "      <td>1</td>\n",
       "      <td>20</td>\n",
       "      <td>0.79375</td>\n",
       "    </tr>\n",
       "    <tr>\n",
       "      <th>2</th>\n",
       "      <td>1</td>\n",
       "      <td>30</td>\n",
       "      <td>0.82500</td>\n",
       "    </tr>\n",
       "    <tr>\n",
       "      <th>3</th>\n",
       "      <td>1</td>\n",
       "      <td>40</td>\n",
       "      <td>0.83125</td>\n",
       "    </tr>\n",
       "    <tr>\n",
       "      <th>4</th>\n",
       "      <td>1</td>\n",
       "      <td>50</td>\n",
       "      <td>0.83125</td>\n",
       "    </tr>\n",
       "    <tr>\n",
       "      <th>...</th>\n",
       "      <td>...</td>\n",
       "      <td>...</td>\n",
       "      <td>...</td>\n",
       "    </tr>\n",
       "    <tr>\n",
       "      <th>95</th>\n",
       "      <td>5</td>\n",
       "      <td>160</td>\n",
       "      <td>0.87500</td>\n",
       "    </tr>\n",
       "    <tr>\n",
       "      <th>96</th>\n",
       "      <td>5</td>\n",
       "      <td>170</td>\n",
       "      <td>0.88125</td>\n",
       "    </tr>\n",
       "    <tr>\n",
       "      <th>97</th>\n",
       "      <td>5</td>\n",
       "      <td>180</td>\n",
       "      <td>0.87500</td>\n",
       "    </tr>\n",
       "    <tr>\n",
       "      <th>98</th>\n",
       "      <td>5</td>\n",
       "      <td>190</td>\n",
       "      <td>0.88125</td>\n",
       "    </tr>\n",
       "    <tr>\n",
       "      <th>99</th>\n",
       "      <td>5</td>\n",
       "      <td>200</td>\n",
       "      <td>0.87500</td>\n",
       "    </tr>\n",
       "  </tbody>\n",
       "</table>\n",
       "<p>100 rows × 3 columns</p>\n",
       "</div>"
      ],
      "text/plain": [
       "    max_features  n_estimators  Accuracy\n",
       "0              1            10   0.73750\n",
       "1              1            20   0.79375\n",
       "2              1            30   0.82500\n",
       "3              1            40   0.83125\n",
       "4              1            50   0.83125\n",
       "..           ...           ...       ...\n",
       "95             5           160   0.87500\n",
       "96             5           170   0.88125\n",
       "97             5           180   0.87500\n",
       "98             5           190   0.88125\n",
       "99             5           200   0.87500\n",
       "\n",
       "[100 rows x 3 columns]"
      ]
     },
     "execution_count": 30,
     "metadata": {},
     "output_type": "execute_result"
    }
   ],
   "source": [
    "grid_results = pd.concat([pd.DataFrame(grid.cv_results_[\"params\"]),pd.DataFrame(grid.cv_results_[\"mean_test_score\"], columns=[\"Accuracy\"])],axis=1)\n",
    "grid_results"
   ]
  },
  {
   "cell_type": "markdown",
   "metadata": {},
   "source": [
    "# 6. Preparing data for making contour plots\n",
    "Prior to making contour plots, we will have to reshape the data into a compatible format that will be recognized by the contour plot functions.\n",
    "\n",
    "Firstly, we will be using Pandas' groupby() function to segment the data into groups based on the 2 hyperparameters: max_features and n_estimators."
   ]
  },
  {
   "cell_type": "code",
   "execution_count": 31,
   "metadata": {},
   "outputs": [
    {
     "data": {
      "text/html": [
       "<div>\n",
       "<style scoped>\n",
       "    .dataframe tbody tr th:only-of-type {\n",
       "        vertical-align: middle;\n",
       "    }\n",
       "\n",
       "    .dataframe tbody tr th {\n",
       "        vertical-align: top;\n",
       "    }\n",
       "\n",
       "    .dataframe thead th {\n",
       "        text-align: right;\n",
       "    }\n",
       "</style>\n",
       "<table border=\"1\" class=\"dataframe\">\n",
       "  <thead>\n",
       "    <tr style=\"text-align: right;\">\n",
       "      <th></th>\n",
       "      <th></th>\n",
       "      <th>Accuracy</th>\n",
       "    </tr>\n",
       "    <tr>\n",
       "      <th>max_features</th>\n",
       "      <th>n_estimators</th>\n",
       "      <th></th>\n",
       "    </tr>\n",
       "  </thead>\n",
       "  <tbody>\n",
       "    <tr>\n",
       "      <th rowspan=\"5\" valign=\"top\">1</th>\n",
       "      <th>10</th>\n",
       "      <td>0.73750</td>\n",
       "    </tr>\n",
       "    <tr>\n",
       "      <th>20</th>\n",
       "      <td>0.79375</td>\n",
       "    </tr>\n",
       "    <tr>\n",
       "      <th>30</th>\n",
       "      <td>0.82500</td>\n",
       "    </tr>\n",
       "    <tr>\n",
       "      <th>40</th>\n",
       "      <td>0.83125</td>\n",
       "    </tr>\n",
       "    <tr>\n",
       "      <th>50</th>\n",
       "      <td>0.83125</td>\n",
       "    </tr>\n",
       "    <tr>\n",
       "      <th>...</th>\n",
       "      <th>...</th>\n",
       "      <td>...</td>\n",
       "    </tr>\n",
       "    <tr>\n",
       "      <th rowspan=\"5\" valign=\"top\">5</th>\n",
       "      <th>160</th>\n",
       "      <td>0.87500</td>\n",
       "    </tr>\n",
       "    <tr>\n",
       "      <th>170</th>\n",
       "      <td>0.88125</td>\n",
       "    </tr>\n",
       "    <tr>\n",
       "      <th>180</th>\n",
       "      <td>0.87500</td>\n",
       "    </tr>\n",
       "    <tr>\n",
       "      <th>190</th>\n",
       "      <td>0.88125</td>\n",
       "    </tr>\n",
       "    <tr>\n",
       "      <th>200</th>\n",
       "      <td>0.87500</td>\n",
       "    </tr>\n",
       "  </tbody>\n",
       "</table>\n",
       "<p>100 rows × 1 columns</p>\n",
       "</div>"
      ],
      "text/plain": [
       "                           Accuracy\n",
       "max_features n_estimators          \n",
       "1            10             0.73750\n",
       "             20             0.79375\n",
       "             30             0.82500\n",
       "             40             0.83125\n",
       "             50             0.83125\n",
       "...                             ...\n",
       "5            160            0.87500\n",
       "             170            0.88125\n",
       "             180            0.87500\n",
       "             190            0.88125\n",
       "             200            0.87500\n",
       "\n",
       "[100 rows x 1 columns]"
      ]
     },
     "execution_count": 31,
     "metadata": {},
     "output_type": "execute_result"
    }
   ],
   "source": [
    "grid_contour = grid_results.groupby(['max_features','n_estimators']).mean()\n",
    "grid_contour"
   ]
  },
  {
   "cell_type": "markdown",
   "metadata": {},
   "source": [
    "### Pivoting the data\n",
    "Data is reshaped by pivoting the data into an m by n matrix where rows and columns correspond to the max_features and n_estimators, respectively."
   ]
  },
  {
   "cell_type": "code",
   "execution_count": 32,
   "metadata": {},
   "outputs": [
    {
     "data": {
      "text/html": [
       "<div>\n",
       "<style scoped>\n",
       "    .dataframe tbody tr th:only-of-type {\n",
       "        vertical-align: middle;\n",
       "    }\n",
       "\n",
       "    .dataframe tbody tr th {\n",
       "        vertical-align: top;\n",
       "    }\n",
       "\n",
       "    .dataframe thead tr th {\n",
       "        text-align: left;\n",
       "    }\n",
       "\n",
       "    .dataframe thead tr:last-of-type th {\n",
       "        text-align: right;\n",
       "    }\n",
       "</style>\n",
       "<table border=\"1\" class=\"dataframe\">\n",
       "  <thead>\n",
       "    <tr>\n",
       "      <th></th>\n",
       "      <th colspan=\"20\" halign=\"left\">Accuracy</th>\n",
       "    </tr>\n",
       "    <tr>\n",
       "      <th>n_estimators</th>\n",
       "      <th>10</th>\n",
       "      <th>20</th>\n",
       "      <th>30</th>\n",
       "      <th>40</th>\n",
       "      <th>50</th>\n",
       "      <th>60</th>\n",
       "      <th>70</th>\n",
       "      <th>80</th>\n",
       "      <th>90</th>\n",
       "      <th>100</th>\n",
       "      <th>110</th>\n",
       "      <th>120</th>\n",
       "      <th>130</th>\n",
       "      <th>140</th>\n",
       "      <th>150</th>\n",
       "      <th>160</th>\n",
       "      <th>170</th>\n",
       "      <th>180</th>\n",
       "      <th>190</th>\n",
       "      <th>200</th>\n",
       "    </tr>\n",
       "    <tr>\n",
       "      <th>max_features</th>\n",
       "      <th></th>\n",
       "      <th></th>\n",
       "      <th></th>\n",
       "      <th></th>\n",
       "      <th></th>\n",
       "      <th></th>\n",
       "      <th></th>\n",
       "      <th></th>\n",
       "      <th></th>\n",
       "      <th></th>\n",
       "      <th></th>\n",
       "      <th></th>\n",
       "      <th></th>\n",
       "      <th></th>\n",
       "      <th></th>\n",
       "      <th></th>\n",
       "      <th></th>\n",
       "      <th></th>\n",
       "      <th></th>\n",
       "      <th></th>\n",
       "    </tr>\n",
       "  </thead>\n",
       "  <tbody>\n",
       "    <tr>\n",
       "      <th>1</th>\n",
       "      <td>0.73750</td>\n",
       "      <td>0.79375</td>\n",
       "      <td>0.82500</td>\n",
       "      <td>0.83125</td>\n",
       "      <td>0.83125</td>\n",
       "      <td>0.81250</td>\n",
       "      <td>0.83125</td>\n",
       "      <td>0.82500</td>\n",
       "      <td>0.85625</td>\n",
       "      <td>0.84375</td>\n",
       "      <td>0.83750</td>\n",
       "      <td>0.83125</td>\n",
       "      <td>0.86250</td>\n",
       "      <td>0.850</td>\n",
       "      <td>0.85000</td>\n",
       "      <td>0.85625</td>\n",
       "      <td>0.84375</td>\n",
       "      <td>0.8625</td>\n",
       "      <td>0.84375</td>\n",
       "      <td>0.85625</td>\n",
       "    </tr>\n",
       "    <tr>\n",
       "      <th>2</th>\n",
       "      <td>0.81875</td>\n",
       "      <td>0.86875</td>\n",
       "      <td>0.82500</td>\n",
       "      <td>0.86875</td>\n",
       "      <td>0.86875</td>\n",
       "      <td>0.86875</td>\n",
       "      <td>0.86250</td>\n",
       "      <td>0.87500</td>\n",
       "      <td>0.86875</td>\n",
       "      <td>0.85625</td>\n",
       "      <td>0.86875</td>\n",
       "      <td>0.87500</td>\n",
       "      <td>0.86875</td>\n",
       "      <td>0.875</td>\n",
       "      <td>0.86875</td>\n",
       "      <td>0.87500</td>\n",
       "      <td>0.86875</td>\n",
       "      <td>0.8750</td>\n",
       "      <td>0.85625</td>\n",
       "      <td>0.87500</td>\n",
       "    </tr>\n",
       "    <tr>\n",
       "      <th>3</th>\n",
       "      <td>0.81875</td>\n",
       "      <td>0.84375</td>\n",
       "      <td>0.84375</td>\n",
       "      <td>0.86875</td>\n",
       "      <td>0.87500</td>\n",
       "      <td>0.88125</td>\n",
       "      <td>0.87500</td>\n",
       "      <td>0.88750</td>\n",
       "      <td>0.87500</td>\n",
       "      <td>0.86875</td>\n",
       "      <td>0.88125</td>\n",
       "      <td>0.87500</td>\n",
       "      <td>0.87500</td>\n",
       "      <td>0.875</td>\n",
       "      <td>0.87500</td>\n",
       "      <td>0.86875</td>\n",
       "      <td>0.87500</td>\n",
       "      <td>0.8750</td>\n",
       "      <td>0.87500</td>\n",
       "      <td>0.87500</td>\n",
       "    </tr>\n",
       "    <tr>\n",
       "      <th>4</th>\n",
       "      <td>0.86250</td>\n",
       "      <td>0.86250</td>\n",
       "      <td>0.88125</td>\n",
       "      <td>0.86250</td>\n",
       "      <td>0.86875</td>\n",
       "      <td>0.88125</td>\n",
       "      <td>0.87500</td>\n",
       "      <td>0.87500</td>\n",
       "      <td>0.88125</td>\n",
       "      <td>0.87500</td>\n",
       "      <td>0.87500</td>\n",
       "      <td>0.87500</td>\n",
       "      <td>0.87500</td>\n",
       "      <td>0.875</td>\n",
       "      <td>0.87500</td>\n",
       "      <td>0.87500</td>\n",
       "      <td>0.87500</td>\n",
       "      <td>0.8750</td>\n",
       "      <td>0.86875</td>\n",
       "      <td>0.87500</td>\n",
       "    </tr>\n",
       "    <tr>\n",
       "      <th>5</th>\n",
       "      <td>0.83750</td>\n",
       "      <td>0.86875</td>\n",
       "      <td>0.88750</td>\n",
       "      <td>0.87500</td>\n",
       "      <td>0.86875</td>\n",
       "      <td>0.86875</td>\n",
       "      <td>0.86875</td>\n",
       "      <td>0.88125</td>\n",
       "      <td>0.88125</td>\n",
       "      <td>0.88125</td>\n",
       "      <td>0.88125</td>\n",
       "      <td>0.88125</td>\n",
       "      <td>0.88125</td>\n",
       "      <td>0.875</td>\n",
       "      <td>0.87500</td>\n",
       "      <td>0.87500</td>\n",
       "      <td>0.88125</td>\n",
       "      <td>0.8750</td>\n",
       "      <td>0.88125</td>\n",
       "      <td>0.87500</td>\n",
       "    </tr>\n",
       "  </tbody>\n",
       "</table>\n",
       "</div>"
      ],
      "text/plain": [
       "             Accuracy                                                        \\\n",
       "n_estimators      10       20       30       40       50       60       70    \n",
       "max_features                                                                  \n",
       "1             0.73750  0.79375  0.82500  0.83125  0.83125  0.81250  0.83125   \n",
       "2             0.81875  0.86875  0.82500  0.86875  0.86875  0.86875  0.86250   \n",
       "3             0.81875  0.84375  0.84375  0.86875  0.87500  0.88125  0.87500   \n",
       "4             0.86250  0.86250  0.88125  0.86250  0.86875  0.88125  0.87500   \n",
       "5             0.83750  0.86875  0.88750  0.87500  0.86875  0.86875  0.86875   \n",
       "\n",
       "                                                                           \\\n",
       "n_estimators      80       90       100      110      120      130    140   \n",
       "max_features                                                                \n",
       "1             0.82500  0.85625  0.84375  0.83750  0.83125  0.86250  0.850   \n",
       "2             0.87500  0.86875  0.85625  0.86875  0.87500  0.86875  0.875   \n",
       "3             0.88750  0.87500  0.86875  0.88125  0.87500  0.87500  0.875   \n",
       "4             0.87500  0.88125  0.87500  0.87500  0.87500  0.87500  0.875   \n",
       "5             0.88125  0.88125  0.88125  0.88125  0.88125  0.88125  0.875   \n",
       "\n",
       "                                                                   \n",
       "n_estimators      150      160      170     180      190      200  \n",
       "max_features                                                       \n",
       "1             0.85000  0.85625  0.84375  0.8625  0.84375  0.85625  \n",
       "2             0.86875  0.87500  0.86875  0.8750  0.85625  0.87500  \n",
       "3             0.87500  0.86875  0.87500  0.8750  0.87500  0.87500  \n",
       "4             0.87500  0.87500  0.87500  0.8750  0.86875  0.87500  \n",
       "5             0.87500  0.87500  0.88125  0.8750  0.88125  0.87500  "
      ]
     },
     "execution_count": 32,
     "metadata": {},
     "output_type": "execute_result"
    }
   ],
   "source": [
    "grid_reset = grid_contour.reset_index()\n",
    "grid_reset.columns = ['max_features', 'n_estimators', 'Accuracy']\n",
    "grid_pivot = grid_reset.pivot('max_features', 'n_estimators')\n",
    "grid_pivot"
   ]
  },
  {
   "cell_type": "markdown",
   "metadata": {},
   "source": [
    "Finally, we assign the pivoted data into the respective x, y and z variables."
   ]
  },
  {
   "cell_type": "code",
   "execution_count": 33,
   "metadata": {},
   "outputs": [],
   "source": [
    "x = grid_pivot.columns.levels[1].values\n",
    "y = grid_pivot.index.values\n",
    "z = grid_pivot.values"
   ]
  }
 ],
 "metadata": {
  "kernelspec": {
   "display_name": "Python 3",
   "language": "python",
   "name": "python3"
  },
  "language_info": {
   "codemirror_mode": {
    "name": "ipython",
    "version": 3
   },
   "file_extension": ".py",
   "mimetype": "text/x-python",
   "name": "python",
   "nbconvert_exporter": "python",
   "pygments_lexer": "ipython3",
   "version": "3.8.5"
  }
 },
 "nbformat": 4,
 "nbformat_minor": 4
}
