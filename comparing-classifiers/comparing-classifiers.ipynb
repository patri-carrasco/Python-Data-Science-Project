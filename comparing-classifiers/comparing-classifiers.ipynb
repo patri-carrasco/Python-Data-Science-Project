{
 "cells": [
  {
   "cell_type": "markdown",
   "metadata": {},
   "source": [
    "# Comparing Classifiers for Building Classification Models\n",
    "\n",
    "\n",
    "Data Professor YouTube channel, http://youtube.com/dataprofessor\n",
    "\n",
    "In this Jupyter notebook, we will be comparing the performance of different classifiers for building classification models."
   ]
  },
  {
   "cell_type": "markdown",
   "metadata": {},
   "source": [
    "# 1. Make synthetic dataset"
   ]
  },
  {
   "cell_type": "markdown",
   "metadata": {},
   "source": [
    "### 1.1. Import library"
   ]
  },
  {
   "cell_type": "code",
   "execution_count": 1,
   "metadata": {},
   "outputs": [],
   "source": [
    "from sklearn.datasets import make_classification\n",
    "from sklearn.model_selection import train_test_split\n",
    "\n",
    "\n",
    "import pandas as pd\n",
    "import seaborn as sns\n",
    "\n",
    "from sklearn.neural_network import MLPClassifier\n",
    "from sklearn.neighbors import KNeighborsClassifier\n",
    "from sklearn.svm import SVC\n",
    "from sklearn.gaussian_process import GaussianProcessClassifier\n",
    "from sklearn.ensemble import GradientBoostingClassifier\n",
    "from sklearn.gaussian_process.kernels import RBF\n",
    "from sklearn.tree import DecisionTreeClassifier\n",
    "from sklearn.ensemble import ExtraTreesClassifier\n",
    "from sklearn.ensemble import RandomForestClassifier, AdaBoostClassifier\n",
    "from sklearn.naive_bayes import GaussianNB\n",
    "from sklearn.discriminant_analysis import QuadraticDiscriminantAnalysis\n",
    "from sklearn.linear_model import SGDClassifier"
   ]
  },
  {
   "cell_type": "markdown",
   "metadata": {},
   "source": [
    "### 1.2. Generate the dataset"
   ]
  },
  {
   "cell_type": "code",
   "execution_count": 2,
   "metadata": {},
   "outputs": [],
   "source": [
    "X, Y = make_classification(n_samples=1000, n_classes=2, n_features=5, n_redundant=0, random_state=1)"
   ]
  },
  {
   "cell_type": "markdown",
   "metadata": {},
   "source": [
    "### 1.3. Let's examine the data dimension"
   ]
  },
  {
   "cell_type": "code",
   "execution_count": 3,
   "metadata": {},
   "outputs": [
    {
     "data": {
      "text/plain": [
       "(1000, 5)"
      ]
     },
     "execution_count": 3,
     "metadata": {},
     "output_type": "execute_result"
    }
   ],
   "source": [
    "X.shape"
   ]
  },
  {
   "cell_type": "code",
   "execution_count": 4,
   "metadata": {},
   "outputs": [
    {
     "data": {
      "text/plain": [
       "(1000,)"
      ]
     },
     "execution_count": 4,
     "metadata": {},
     "output_type": "execute_result"
    }
   ],
   "source": [
    "Y.shape"
   ]
  },
  {
   "cell_type": "markdown",
   "metadata": {},
   "source": [
    "# 2. Data split (80/20 ratio)\n",
    "### 2.1. Data split"
   ]
  },
  {
   "cell_type": "code",
   "execution_count": 5,
   "metadata": {},
   "outputs": [],
   "source": [
    "X_train, X_test, Y_train, Y_test = train_test_split(X, Y, test_size=0.2)"
   ]
  },
  {
   "cell_type": "markdown",
   "metadata": {},
   "source": [
    "### 2.2. Let's examine the data dimension"
   ]
  },
  {
   "cell_type": "code",
   "execution_count": 6,
   "metadata": {},
   "outputs": [
    {
     "data": {
      "text/plain": [
       "((800, 5), (800,))"
      ]
     },
     "execution_count": 6,
     "metadata": {},
     "output_type": "execute_result"
    }
   ],
   "source": [
    "X_train.shape, Y_train.shape"
   ]
  },
  {
   "cell_type": "code",
   "execution_count": 7,
   "metadata": {},
   "outputs": [
    {
     "data": {
      "text/plain": [
       "((200, 5), (200,))"
      ]
     },
     "execution_count": 7,
     "metadata": {},
     "output_type": "execute_result"
    }
   ],
   "source": [
    "X_test.shape, Y_test.shape"
   ]
  },
  {
   "cell_type": "markdown",
   "metadata": {},
   "source": [
    "# 3. Build Classification Models\n",
    "### 3.1. Defining learning classifiers\n"
   ]
  },
  {
   "cell_type": "code",
   "execution_count": 8,
   "metadata": {},
   "outputs": [],
   "source": [
    "names = [\"Nearest_Neighbors\", \"Linear_SVM\", \"Polynomial_SVM\", \"RBF_SVM\", \"Gaussian_Process\",\n",
    "         \"Gradient_Boosting\", \"Decision_Tree\", \"Extra_Trees\", \"Random_Forest\", \"Neural_Net\", \"AdaBoost\",\n",
    "         \"Naive_Bayes\", \"QDA\", \"SGD\"]\n",
    "\n",
    "classifiers = [\n",
    "    KNeighborsClassifier(3),\n",
    "    SVC(kernel=\"linear\", C=0.025),\n",
    "    SVC(kernel=\"poly\", degree=3, C=0.025),\n",
    "    SVC(kernel=\"rbf\", C=1, gamma=2),\n",
    "    GaussianProcessClassifier(1.0 * RBF(1.0)),\n",
    "    GradientBoostingClassifier(n_estimators=100, learning_rate=1.0),\n",
    "    DecisionTreeClassifier(max_depth=5),\n",
    "    ExtraTreesClassifier(n_estimators=10, min_samples_split=2),\n",
    "    RandomForestClassifier(max_depth=5, n_estimators=100),\n",
    "    MLPClassifier(alpha=1, max_iter=1000),\n",
    "    AdaBoostClassifier(n_estimators=100),\n",
    "    GaussianNB(),\n",
    "    QuadraticDiscriminantAnalysis(),\n",
    "    SGDClassifier(loss=\"hinge\", penalty=\"l2\")]"
   ]
  },
  {
   "cell_type": "markdown",
   "metadata": {},
   "source": [
    "### 3.2. Build Model, Apply Model on Test Data & Record Accuracy Scores"
   ]
  },
  {
   "cell_type": "markdown",
   "metadata": {},
   "source": [
    "We create the score array to save the 14 predictions of the classifiers"
   ]
  },
  {
   "cell_type": "code",
   "execution_count": 9,
   "metadata": {},
   "outputs": [],
   "source": [
    "scores = []\n",
    "for name, clf in zip(names, classifiers):\n",
    "    clf.fit(X_train, Y_train)\n",
    "    score = clf.score(X_test, Y_test)\n",
    "    scores.append(score)"
   ]
  },
  {
   "cell_type": "code",
   "execution_count": 10,
   "metadata": {},
   "outputs": [
    {
     "data": {
      "text/plain": [
       "[0.86,\n",
       " 0.89,\n",
       " 0.835,\n",
       " 0.825,\n",
       " 0.88,\n",
       " 0.855,\n",
       " 0.86,\n",
       " 0.87,\n",
       " 0.87,\n",
       " 0.885,\n",
       " 0.865,\n",
       " 0.89,\n",
       " 0.88,\n",
       " 0.875]"
      ]
     },
     "execution_count": 10,
     "metadata": {},
     "output_type": "execute_result"
    }
   ],
   "source": [
    "scores"
   ]
  },
  {
   "cell_type": "markdown",
   "metadata": {},
   "source": [
    "# 4. Analysis of Model Performance\n",
    "### 4.1. Create data frame of model performance"
   ]
  },
  {
   "cell_type": "code",
   "execution_count": 11,
   "metadata": {},
   "outputs": [
    {
     "data": {
      "text/html": [
       "<div>\n",
       "<style scoped>\n",
       "    .dataframe tbody tr th:only-of-type {\n",
       "        vertical-align: middle;\n",
       "    }\n",
       "\n",
       "    .dataframe tbody tr th {\n",
       "        vertical-align: top;\n",
       "    }\n",
       "\n",
       "    .dataframe thead th {\n",
       "        text-align: right;\n",
       "    }\n",
       "</style>\n",
       "<table border=\"1\" class=\"dataframe\">\n",
       "  <thead>\n",
       "    <tr style=\"text-align: right;\">\n",
       "      <th></th>\n",
       "      <th>name</th>\n",
       "      <th>score</th>\n",
       "    </tr>\n",
       "  </thead>\n",
       "  <tbody>\n",
       "    <tr>\n",
       "      <th>0</th>\n",
       "      <td>Nearest_Neighbors</td>\n",
       "      <td>0.860</td>\n",
       "    </tr>\n",
       "    <tr>\n",
       "      <th>1</th>\n",
       "      <td>Linear_SVM</td>\n",
       "      <td>0.890</td>\n",
       "    </tr>\n",
       "    <tr>\n",
       "      <th>2</th>\n",
       "      <td>Polynomial_SVM</td>\n",
       "      <td>0.835</td>\n",
       "    </tr>\n",
       "    <tr>\n",
       "      <th>3</th>\n",
       "      <td>RBF_SVM</td>\n",
       "      <td>0.825</td>\n",
       "    </tr>\n",
       "    <tr>\n",
       "      <th>4</th>\n",
       "      <td>Gaussian_Process</td>\n",
       "      <td>0.880</td>\n",
       "    </tr>\n",
       "    <tr>\n",
       "      <th>5</th>\n",
       "      <td>Gradient_Boosting</td>\n",
       "      <td>0.855</td>\n",
       "    </tr>\n",
       "    <tr>\n",
       "      <th>6</th>\n",
       "      <td>Decision_Tree</td>\n",
       "      <td>0.860</td>\n",
       "    </tr>\n",
       "    <tr>\n",
       "      <th>7</th>\n",
       "      <td>Extra_Trees</td>\n",
       "      <td>0.870</td>\n",
       "    </tr>\n",
       "    <tr>\n",
       "      <th>8</th>\n",
       "      <td>Random_Forest</td>\n",
       "      <td>0.870</td>\n",
       "    </tr>\n",
       "    <tr>\n",
       "      <th>9</th>\n",
       "      <td>Neural_Net</td>\n",
       "      <td>0.885</td>\n",
       "    </tr>\n",
       "    <tr>\n",
       "      <th>10</th>\n",
       "      <td>AdaBoost</td>\n",
       "      <td>0.865</td>\n",
       "    </tr>\n",
       "    <tr>\n",
       "      <th>11</th>\n",
       "      <td>Naive_Bayes</td>\n",
       "      <td>0.890</td>\n",
       "    </tr>\n",
       "    <tr>\n",
       "      <th>12</th>\n",
       "      <td>QDA</td>\n",
       "      <td>0.880</td>\n",
       "    </tr>\n",
       "    <tr>\n",
       "      <th>13</th>\n",
       "      <td>SGD</td>\n",
       "      <td>0.875</td>\n",
       "    </tr>\n",
       "  </tbody>\n",
       "</table>\n",
       "</div>"
      ],
      "text/plain": [
       "                 name  score\n",
       "0   Nearest_Neighbors  0.860\n",
       "1          Linear_SVM  0.890\n",
       "2      Polynomial_SVM  0.835\n",
       "3             RBF_SVM  0.825\n",
       "4    Gaussian_Process  0.880\n",
       "5   Gradient_Boosting  0.855\n",
       "6       Decision_Tree  0.860\n",
       "7         Extra_Trees  0.870\n",
       "8       Random_Forest  0.870\n",
       "9          Neural_Net  0.885\n",
       "10           AdaBoost  0.865\n",
       "11        Naive_Bayes  0.890\n",
       "12                QDA  0.880\n",
       "13                SGD  0.875"
      ]
     },
     "execution_count": 11,
     "metadata": {},
     "output_type": "execute_result"
    }
   ],
   "source": [
    "df = pd.DataFrame()\n",
    "df['name'] = names\n",
    "df['score'] = scores\n",
    "df"
   ]
  },
  {
   "cell_type": "markdown",
   "metadata": {},
   "source": [
    "### 4.2. Adding colors to the data frame"
   ]
  },
  {
   "cell_type": "code",
   "execution_count": 12,
   "metadata": {},
   "outputs": [
    {
     "data": {
      "text/html": [
       "<style  type=\"text/css\" >\n",
       "#T_d13afc70_6539_11eb_8d2b_15fee2c5e95drow0_col1,#T_d13afc70_6539_11eb_8d2b_15fee2c5e95drow6_col1{\n",
       "            background-color:  #6db56d;\n",
       "            color:  #000000;\n",
       "        }#T_d13afc70_6539_11eb_8d2b_15fee2c5e95drow1_col1,#T_d13afc70_6539_11eb_8d2b_15fee2c5e95drow11_col1{\n",
       "            background-color:  #008000;\n",
       "            color:  #f1f1f1;\n",
       "        }#T_d13afc70_6539_11eb_8d2b_15fee2c5e95drow2_col1{\n",
       "            background-color:  #c7e1c7;\n",
       "            color:  #000000;\n",
       "        }#T_d13afc70_6539_11eb_8d2b_15fee2c5e95drow3_col1{\n",
       "            background-color:  #ebf3eb;\n",
       "            color:  #000000;\n",
       "        }#T_d13afc70_6539_11eb_8d2b_15fee2c5e95drow4_col1,#T_d13afc70_6539_11eb_8d2b_15fee2c5e95drow12_col1{\n",
       "            background-color:  #249224;\n",
       "            color:  #000000;\n",
       "        }#T_d13afc70_6539_11eb_8d2b_15fee2c5e95drow5_col1{\n",
       "            background-color:  #7ebe7e;\n",
       "            color:  #000000;\n",
       "        }#T_d13afc70_6539_11eb_8d2b_15fee2c5e95drow7_col1,#T_d13afc70_6539_11eb_8d2b_15fee2c5e95drow8_col1{\n",
       "            background-color:  #48a348;\n",
       "            color:  #000000;\n",
       "        }#T_d13afc70_6539_11eb_8d2b_15fee2c5e95drow9_col1{\n",
       "            background-color:  #118911;\n",
       "            color:  #f1f1f1;\n",
       "        }#T_d13afc70_6539_11eb_8d2b_15fee2c5e95drow10_col1{\n",
       "            background-color:  #5aac5a;\n",
       "            color:  #000000;\n",
       "        }#T_d13afc70_6539_11eb_8d2b_15fee2c5e95drow13_col1{\n",
       "            background-color:  #369b36;\n",
       "            color:  #000000;\n",
       "        }</style><table id=\"T_d13afc70_6539_11eb_8d2b_15fee2c5e95d\" ><thead>    <tr>        <th class=\"blank level0\" ></th>        <th class=\"col_heading level0 col0\" >name</th>        <th class=\"col_heading level0 col1\" >score</th>    </tr></thead><tbody>\n",
       "                <tr>\n",
       "                        <th id=\"T_d13afc70_6539_11eb_8d2b_15fee2c5e95dlevel0_row0\" class=\"row_heading level0 row0\" >0</th>\n",
       "                        <td id=\"T_d13afc70_6539_11eb_8d2b_15fee2c5e95drow0_col0\" class=\"data row0 col0\" >Nearest_Neighbors</td>\n",
       "                        <td id=\"T_d13afc70_6539_11eb_8d2b_15fee2c5e95drow0_col1\" class=\"data row0 col1\" >0.860000</td>\n",
       "            </tr>\n",
       "            <tr>\n",
       "                        <th id=\"T_d13afc70_6539_11eb_8d2b_15fee2c5e95dlevel0_row1\" class=\"row_heading level0 row1\" >1</th>\n",
       "                        <td id=\"T_d13afc70_6539_11eb_8d2b_15fee2c5e95drow1_col0\" class=\"data row1 col0\" >Linear_SVM</td>\n",
       "                        <td id=\"T_d13afc70_6539_11eb_8d2b_15fee2c5e95drow1_col1\" class=\"data row1 col1\" >0.890000</td>\n",
       "            </tr>\n",
       "            <tr>\n",
       "                        <th id=\"T_d13afc70_6539_11eb_8d2b_15fee2c5e95dlevel0_row2\" class=\"row_heading level0 row2\" >2</th>\n",
       "                        <td id=\"T_d13afc70_6539_11eb_8d2b_15fee2c5e95drow2_col0\" class=\"data row2 col0\" >Polynomial_SVM</td>\n",
       "                        <td id=\"T_d13afc70_6539_11eb_8d2b_15fee2c5e95drow2_col1\" class=\"data row2 col1\" >0.835000</td>\n",
       "            </tr>\n",
       "            <tr>\n",
       "                        <th id=\"T_d13afc70_6539_11eb_8d2b_15fee2c5e95dlevel0_row3\" class=\"row_heading level0 row3\" >3</th>\n",
       "                        <td id=\"T_d13afc70_6539_11eb_8d2b_15fee2c5e95drow3_col0\" class=\"data row3 col0\" >RBF_SVM</td>\n",
       "                        <td id=\"T_d13afc70_6539_11eb_8d2b_15fee2c5e95drow3_col1\" class=\"data row3 col1\" >0.825000</td>\n",
       "            </tr>\n",
       "            <tr>\n",
       "                        <th id=\"T_d13afc70_6539_11eb_8d2b_15fee2c5e95dlevel0_row4\" class=\"row_heading level0 row4\" >4</th>\n",
       "                        <td id=\"T_d13afc70_6539_11eb_8d2b_15fee2c5e95drow4_col0\" class=\"data row4 col0\" >Gaussian_Process</td>\n",
       "                        <td id=\"T_d13afc70_6539_11eb_8d2b_15fee2c5e95drow4_col1\" class=\"data row4 col1\" >0.880000</td>\n",
       "            </tr>\n",
       "            <tr>\n",
       "                        <th id=\"T_d13afc70_6539_11eb_8d2b_15fee2c5e95dlevel0_row5\" class=\"row_heading level0 row5\" >5</th>\n",
       "                        <td id=\"T_d13afc70_6539_11eb_8d2b_15fee2c5e95drow5_col0\" class=\"data row5 col0\" >Gradient_Boosting</td>\n",
       "                        <td id=\"T_d13afc70_6539_11eb_8d2b_15fee2c5e95drow5_col1\" class=\"data row5 col1\" >0.855000</td>\n",
       "            </tr>\n",
       "            <tr>\n",
       "                        <th id=\"T_d13afc70_6539_11eb_8d2b_15fee2c5e95dlevel0_row6\" class=\"row_heading level0 row6\" >6</th>\n",
       "                        <td id=\"T_d13afc70_6539_11eb_8d2b_15fee2c5e95drow6_col0\" class=\"data row6 col0\" >Decision_Tree</td>\n",
       "                        <td id=\"T_d13afc70_6539_11eb_8d2b_15fee2c5e95drow6_col1\" class=\"data row6 col1\" >0.860000</td>\n",
       "            </tr>\n",
       "            <tr>\n",
       "                        <th id=\"T_d13afc70_6539_11eb_8d2b_15fee2c5e95dlevel0_row7\" class=\"row_heading level0 row7\" >7</th>\n",
       "                        <td id=\"T_d13afc70_6539_11eb_8d2b_15fee2c5e95drow7_col0\" class=\"data row7 col0\" >Extra_Trees</td>\n",
       "                        <td id=\"T_d13afc70_6539_11eb_8d2b_15fee2c5e95drow7_col1\" class=\"data row7 col1\" >0.870000</td>\n",
       "            </tr>\n",
       "            <tr>\n",
       "                        <th id=\"T_d13afc70_6539_11eb_8d2b_15fee2c5e95dlevel0_row8\" class=\"row_heading level0 row8\" >8</th>\n",
       "                        <td id=\"T_d13afc70_6539_11eb_8d2b_15fee2c5e95drow8_col0\" class=\"data row8 col0\" >Random_Forest</td>\n",
       "                        <td id=\"T_d13afc70_6539_11eb_8d2b_15fee2c5e95drow8_col1\" class=\"data row8 col1\" >0.870000</td>\n",
       "            </tr>\n",
       "            <tr>\n",
       "                        <th id=\"T_d13afc70_6539_11eb_8d2b_15fee2c5e95dlevel0_row9\" class=\"row_heading level0 row9\" >9</th>\n",
       "                        <td id=\"T_d13afc70_6539_11eb_8d2b_15fee2c5e95drow9_col0\" class=\"data row9 col0\" >Neural_Net</td>\n",
       "                        <td id=\"T_d13afc70_6539_11eb_8d2b_15fee2c5e95drow9_col1\" class=\"data row9 col1\" >0.885000</td>\n",
       "            </tr>\n",
       "            <tr>\n",
       "                        <th id=\"T_d13afc70_6539_11eb_8d2b_15fee2c5e95dlevel0_row10\" class=\"row_heading level0 row10\" >10</th>\n",
       "                        <td id=\"T_d13afc70_6539_11eb_8d2b_15fee2c5e95drow10_col0\" class=\"data row10 col0\" >AdaBoost</td>\n",
       "                        <td id=\"T_d13afc70_6539_11eb_8d2b_15fee2c5e95drow10_col1\" class=\"data row10 col1\" >0.865000</td>\n",
       "            </tr>\n",
       "            <tr>\n",
       "                        <th id=\"T_d13afc70_6539_11eb_8d2b_15fee2c5e95dlevel0_row11\" class=\"row_heading level0 row11\" >11</th>\n",
       "                        <td id=\"T_d13afc70_6539_11eb_8d2b_15fee2c5e95drow11_col0\" class=\"data row11 col0\" >Naive_Bayes</td>\n",
       "                        <td id=\"T_d13afc70_6539_11eb_8d2b_15fee2c5e95drow11_col1\" class=\"data row11 col1\" >0.890000</td>\n",
       "            </tr>\n",
       "            <tr>\n",
       "                        <th id=\"T_d13afc70_6539_11eb_8d2b_15fee2c5e95dlevel0_row12\" class=\"row_heading level0 row12\" >12</th>\n",
       "                        <td id=\"T_d13afc70_6539_11eb_8d2b_15fee2c5e95drow12_col0\" class=\"data row12 col0\" >QDA</td>\n",
       "                        <td id=\"T_d13afc70_6539_11eb_8d2b_15fee2c5e95drow12_col1\" class=\"data row12 col1\" >0.880000</td>\n",
       "            </tr>\n",
       "            <tr>\n",
       "                        <th id=\"T_d13afc70_6539_11eb_8d2b_15fee2c5e95dlevel0_row13\" class=\"row_heading level0 row13\" >13</th>\n",
       "                        <td id=\"T_d13afc70_6539_11eb_8d2b_15fee2c5e95drow13_col0\" class=\"data row13 col0\" >SGD</td>\n",
       "                        <td id=\"T_d13afc70_6539_11eb_8d2b_15fee2c5e95drow13_col1\" class=\"data row13 col1\" >0.875000</td>\n",
       "            </tr>\n",
       "    </tbody></table>"
      ],
      "text/plain": [
       "<pandas.io.formats.style.Styler at 0x7f38dc768a60>"
      ]
     },
     "execution_count": 12,
     "metadata": {},
     "output_type": "execute_result"
    }
   ],
   "source": [
    "cm = sns.light_palette(\"green\", as_cmap=True)\n",
    "s = df.style.background_gradient(cmap=cm)\n",
    "s"
   ]
  },
  {
   "cell_type": "markdown",
   "metadata": {},
   "source": [
    "### 4.3. Bar plot of model performance"
   ]
  },
  {
   "cell_type": "code",
   "execution_count": 13,
   "metadata": {},
   "outputs": [
    {
     "data": {
      "image/png": "[encoded data removed]",
      "text/plain": [
       "<Figure size 432x288 with 1 Axes>"
      ]
     },
     "metadata": {},
     "output_type": "display_data"
    }
   ],
   "source": [
    "sns.set(style=\"whitegrid\")\n",
    "ax = sns.barplot(y=\"name\", x=\"score\", data=df)"
   ]
  }
 ],
 "metadata": {
  "kernelspec": {
   "display_name": "Python 3",
   "language": "python",
   "name": "python3"
  },
  "language_info": {
   "codemirror_mode": {
    "name": "ipython",
    "version": 3
   },
   "file_extension": ".py",
   "mimetype": "text/x-python",
   "name": "python",
   "nbconvert_exporter": "python",
   "pygments_lexer": "ipython3",
   "version": "3.8.5"
  }
 },
 "nbformat": 4,
 "nbformat_minor": 4
}
